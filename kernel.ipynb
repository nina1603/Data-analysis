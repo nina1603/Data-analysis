{
  "cells": [
    {
      "metadata": {
        "_uuid": "8f2839f25d086af736a60e9eeb907d3b93b6e0e5",
        "_cell_guid": "b1076dfc-b9ad-4769-8c92-a6c4dae69d19",
        "trusted": true
      },
      "cell_type": "code",
      "source": "import numpy as np\nimport pandas as pd\n\nimport seaborn as sns\nimport matplotlib.pyplot as plt  \n\nfrom timeit import default_timer as timer\nfrom sklearn import preprocessing\n\n#!pip install ultimate\n#from ultimate.mlp import MLP \n\nfrom keras.models import Sequential\nfrom keras.layers import Dense\nfrom keras.callbacks import ModelCheckpoint\n\nimport gc, sys\ngc.enable()\n",
      "execution_count": 19,
      "outputs": []
    },
    {
      "metadata": {
        "trusted": true,
        "_uuid": "601d0ad2e1685bce2d6fe325910d2528627ddf95"
      },
      "cell_type": "code",
      "source": "def state(message,start = True, time = 0):\n    if(start):\n        print(f'Working on {message} ... ')\n    else :\n        print(f'Working on {message} took ({round(time , 3)}) Sec \\n')",
      "execution_count": 20,
      "outputs": []
    },
    {
      "metadata": {
        "trusted": true,
        "_uuid": "0f3c99c9b64ea7fcb411e901f731544777336598"
      },
      "cell_type": "code",
      "source": "def feature_engineering(is_train = True):\n    if is_train: \n        df = pd.read_csv('../input/train_V2.csv')\n        # Only take the samples with matches that have more than 1 player; there are matches with no players or just one player\n        df = df[df['maxPlace'] > 1]\n    else:\n        df = pd.read_csv('../input/test_V2.csv')\n        \n    # Make a new feature indecating the total distance a player cut :\n    state('totalDistance')\n    s = timer()\n    df['totalDistance'] = df['rideDistance'] + df[\"walkDistance\"] + df[\"swimDistance\"]\n    e = timer()\n    state('totalDistance', False, e - s)\n    state('rankPoints')\n    \n    s = timer()\n    df['rankPoints'] = np.where(df['rankPoints'] <= 0 ,0 , df['rankPoints'])\n    \n    e = timer()                                  \n    state('rankPoints', False, e-s)\n    \n    target = 'winPlacePerc'\n    \n    features = list(df.columns)\n    features.remove(\"Id\")\n    features.remove(\"matchId\")\n    features.remove(\"groupId\")\n    features.remove(\"matchDuration\")\n    features.remove(\"matchType\")\n    y = None\n\n    if is_train: \n        y = np.array(df.groupby(['matchId','groupId'])[target].agg('mean'), dtype = np.float64)\n        features.remove(target)\n    \n    # Make new features indicating the mean of the features(grouped by match and group) :\n    agg = df.groupby(['matchId','groupId'])[features].agg('mean')\n    # Put the new features into a rank form ( max value will have the highest rank)\n    agg_rank = agg.groupby('matchId')[features].rank(pct = True).reset_index()\n    \n\n    if is_train:\n        df_out = agg.reset_index()[['matchId','groupId']]\n    else:\n        df_out = df[['matchId','groupId']]\n    \n    df_out = df_out.merge(agg.reset_index(), suffixes = [\"\", \"\"], how = 'left', on = ['matchId', 'groupId'])\n    df_out = df_out.merge(agg_rank, suffixes = [\"_mean\", \"_mean_rank\"], how = 'left', on = ['matchId', 'groupId'])\n    \n    # Make new features indicating the max value of the features for each group ( grouped by match )\n    agg = df.groupby(['matchId','groupId'])[features].agg('max')\n    # Put the new features into a rank form ( max value will have the highest rank)\n    agg_rank = agg.groupby('matchId')[features].rank(pct = True).reset_index()\n    \n    # Merge the new (agg and agg_rank) with df_out :\n    df_out = df_out.merge(agg.reset_index(), suffixes = [\"\", \"\"], how = 'left', on = ['matchId', 'groupId'])\n    df_out = df_out.merge(agg_rank, suffixes = [\"_max\", \"_max_rank\"], how = 'left', on = ['matchId', 'groupId'])\n    \n    # Make new features indicating the minimum value of the features for each group(grouped by match)\n    print(\"get group min feature\")\n    agg = df.groupby(['matchId','groupId'])[features].agg('min')\n    # Put the new features into a rank form ( max value will have the highest rank)\n    agg_rank = agg.groupby('matchId')[features].rank(pct = True).reset_index()\n    \n    # Merge the new (agg and agg_rank) with df_out :\n    df_out = df_out.merge(agg.reset_index(), suffixes = [\"\", \"\"], how = 'left', on = ['matchId', 'groupId'])\n    df_out = df_out.merge(agg_rank, suffixes = [\"_min\", \"_min_rank\"], how = 'left', on = ['matchId', 'groupId'])\n    \n    # Make new features indicating the number of players in each group ( grouped by match )\n    print(\"get group size feature\")\n    agg = df.groupby(['matchId','groupId']).size().reset_index(name = 'group_size')\n     \n    # Merge the group_size feature with df_out :\n    df_out = df_out.merge(agg, how = 'left', on = ['matchId', 'groupId'])\n    \n    # Make new features indicating the mean value of each features for each match :\n    agg = df.groupby(['matchId'])[features].agg('mean').reset_index()\n    \n    # Merge the new agg with df_out :\n    df_out = df_out.merge(agg, suffixes = [\"\", \"_match_mean\"], how = 'left', on = ['matchId'])\n    \n    agg = df.groupby(['matchId']).size().reset_index(name = 'match_size')\n    \n    df_out = df_out.merge(agg, how = 'left', on = ['matchId'])\n    df_out.drop([\"matchId\", \"groupId\"], axis = 1, inplace = True)\n\n    X = np.array(df_out, dtype = np.float64)\n    \n    del df, df_out, agg, agg_rank\n    gc.collect()\n    return X, y",
      "execution_count": 21,
      "outputs": []
    },
    {
      "metadata": {
        "trusted": true,
        "_uuid": "77599d192607990918baf2c558ff989f9ac6229b"
      },
      "cell_type": "code",
      "source": "%%time\n# Process the training data :\nx_train, y = feature_engineering(True)\n# Scale the data to be in the range (-1 , 1)\nscaler = preprocessing.MinMaxScaler(feature_range = (-1, 1), copy = False).fit(x_train)",
      "execution_count": 22,
      "outputs": [
        {
          "output_type": "stream",
          "text": "Working on totalDistance ... \nWorking on totalDistance took (0.144) Sec \n\nWorking on rankPoints ... \nWorking on rankPoints took (0.051) Sec \n\nget group min feature\nget group size feature\nCPU times: user 2min 51s, sys: 30 s, total: 3min 21s\nWall time: 3min 21s\n",
          "name": "stdout"
        }
      ]
    },
    {
      "metadata": {
        "_uuid": "68072c1e602a9c31b7ccee88058241fb34c28952"
      },
      "cell_type": "markdown",
      "source": "Scale and normalize"
    },
    {
      "metadata": {
        "trusted": true,
        "_uuid": "88ebd5dc0e22572f66240fb9c1a9f2fbd5517726"
      },
      "cell_type": "code",
      "source": "print(\"x_train: \", x_train.shape, x_train.max(), x_train.min())\nscaler.transform(x_train)\nprint(\"x_train now: \", x_train.shape, x_train.max(), x_train.min())",
      "execution_count": 23,
      "outputs": [
        {
          "output_type": "stream",
          "text": "x_train:  (2026744, 170) 41270.1 0.0\nx_train now:  (2026744, 170) 1.0000000000000002 -1.0000000000000002\n",
          "name": "stdout"
        }
      ]
    },
    {
      "metadata": {
        "trusted": true,
        "_uuid": "4adcd3244d039e4b3f36a7c1abbb1437b5fdd6ae"
      },
      "cell_type": "code",
      "source": "y[:5]",
      "execution_count": 24,
      "outputs": [
        {
          "output_type": "execute_result",
          "execution_count": 24,
          "data": {
            "text/plain": "array([0.3333, 0.037 , 0.    , 0.3704, 1.    ])"
          },
          "metadata": {}
        }
      ]
    },
    {
      "metadata": {
        "trusted": true,
        "_uuid": "27129206ec5caa1a2fea65b09dcaf58561b4eef8"
      },
      "cell_type": "code",
      "source": "y *= 2\ny -= 1\nprint(\"y\", y.shape, y.max(), y.min())",
      "execution_count": 25,
      "outputs": [
        {
          "output_type": "stream",
          "text": "y (2026744,) 1.0 -1.0\n",
          "name": "stdout"
        }
      ]
    },
    {
      "metadata": {
        "trusted": true,
        "_uuid": "5c2162f4f0784e2a50d6ddb6be6cce30c6cc1915"
      },
      "cell_type": "code",
      "source": "%%time\nmodel = Sequential()\nmodel.add(Dense(x_train.shape[1],  input_dim = x_train.shape[1], activation = 'relu'))\nmodel.add(Dense(136, activation = 'relu'))\nmodel.add(Dense(136, activation = 'relu'))\nmodel.add(Dense(136, activation = 'relu'))\nmodel.add(Dense(136, activation = 'relu'))\n\n# output Layer\nmodel.add(Dense(1, activation = 'linear'))",
      "execution_count": 26,
      "outputs": [
        {
          "output_type": "stream",
          "text": "CPU times: user 68 ms, sys: 0 ns, total: 68 ms\nWall time: 69.1 ms\n",
          "name": "stdout"
        }
      ]
    },
    {
      "metadata": {
        "trusted": true,
        "_uuid": "b7b2272f303f163df5f485f3c55fce02f4de6172"
      },
      "cell_type": "code",
      "source": "# Compile the network :\nfrom keras.optimizers import SGD, Adam\nadam = Adam(lr=0.00001)\nmodel.compile(loss = 'mean_absolute_error', optimizer = 'adam', metrics=['mean_absolute_error'])\nmodel.summary()",
      "execution_count": 27,
      "outputs": [
        {
          "output_type": "stream",
          "text": "_________________________________________________________________\nLayer (type)                 Output Shape              Param #   \n=================================================================\ndense_7 (Dense)              (None, 170)               29070     \n_________________________________________________________________\ndense_8 (Dense)              (None, 136)               23256     \n_________________________________________________________________\ndense_9 (Dense)              (None, 136)               18632     \n_________________________________________________________________\ndense_10 (Dense)             (None, 136)               18632     \n_________________________________________________________________\ndense_11 (Dense)             (None, 136)               18632     \n_________________________________________________________________\ndense_12 (Dense)             (None, 1)                 137       \n=================================================================\nTotal params: 108,359\nTrainable params: 108,359\nNon-trainable params: 0\n_________________________________________________________________\n",
          "name": "stdout"
        }
      ]
    },
    {
      "metadata": {
        "trusted": true,
        "_uuid": "b8256803bd04e1e0249c118338f4813d7ac03c4a"
      },
      "cell_type": "code",
      "source": "checkpoint_name = 'Weights-{epoch:03d}--{val_loss:.5f}.hdf5' \ncheckpoint = ModelCheckpoint(checkpoint_name, monitor='val_loss', verbose = 1, save_best_only = True, mode ='auto')\ncallbacks_list = [checkpoint]\n",
      "execution_count": 28,
      "outputs": []
    },
    {
      "metadata": {
        "trusted": true,
        "_uuid": "a4dc1e97be224df53193d2efe53dd9a14e3a32ba"
      },
      "cell_type": "code",
      "source": "%%time\nmodel.fit(x = x_train, y = y, batch_size=1000, epochs=20, verbose=1, callbacks=callbacks_list,\n            validation_split=0.15, validation_data=None, shuffle=True,\n            class_weight=None, sample_weight=None, initial_epoch=0, steps_per_epoch=None, validation_steps=None)\ndel x_train, y\ngc.collect()",
      "execution_count": 29,
      "outputs": [
        {
          "output_type": "stream",
          "text": "Train on 1722732 samples, validate on 304012 samples\nEpoch 1/20\n1722732/1722732 [==============================] - 42s 24us/step - loss: 0.0763 - mean_absolute_error: 0.0763 - val_loss: 0.0668 - val_mean_absolute_error: 0.0668\n\nEpoch 00001: val_loss improved from inf to 0.06675, saving model to Weights-001--0.06675.hdf5\nEpoch 2/20\n1722732/1722732 [==============================] - 39s 23us/step - loss: 0.0653 - mean_absolute_error: 0.0653 - val_loss: 0.0614 - val_mean_absolute_error: 0.0614\n\nEpoch 00002: val_loss improved from 0.06675 to 0.06137, saving model to Weights-002--0.06137.hdf5\nEpoch 3/20\n1722732/1722732 [==============================] - 39s 23us/step - loss: 0.0636 - mean_absolute_error: 0.0636 - val_loss: 0.0673 - val_mean_absolute_error: 0.0673\n\nEpoch 00003: val_loss did not improve from 0.06137\nEpoch 4/20\n1722732/1722732 [==============================] - 40s 23us/step - loss: 0.0628 - mean_absolute_error: 0.0628 - val_loss: 0.0635 - val_mean_absolute_error: 0.0635\n\nEpoch 00004: val_loss did not improve from 0.06137\nEpoch 5/20\n1722732/1722732 [==============================] - 39s 23us/step - loss: 0.0622 - mean_absolute_error: 0.0622 - val_loss: 0.0622 - val_mean_absolute_error: 0.0622\n\nEpoch 00005: val_loss did not improve from 0.06137\nEpoch 6/20\n1722732/1722732 [==============================] - 40s 23us/step - loss: 0.0618 - mean_absolute_error: 0.0618 - val_loss: 0.0609 - val_mean_absolute_error: 0.0609\n\nEpoch 00006: val_loss improved from 0.06137 to 0.06090, saving model to Weights-006--0.06090.hdf5\nEpoch 7/20\n1722732/1722732 [==============================] - 39s 23us/step - loss: 0.0616 - mean_absolute_error: 0.0616 - val_loss: 0.0616 - val_mean_absolute_error: 0.0616\n\nEpoch 00007: val_loss did not improve from 0.06090\nEpoch 8/20\n1722732/1722732 [==============================] - 39s 23us/step - loss: 0.0612 - mean_absolute_error: 0.0612 - val_loss: 0.0615 - val_mean_absolute_error: 0.0615\n\nEpoch 00008: val_loss did not improve from 0.06090\nEpoch 9/20\n1722732/1722732 [==============================] - 40s 23us/step - loss: 0.0610 - mean_absolute_error: 0.0610 - val_loss: 0.0597 - val_mean_absolute_error: 0.0597\n\nEpoch 00009: val_loss improved from 0.06090 to 0.05967, saving model to Weights-009--0.05967.hdf5\nEpoch 10/20\n1722732/1722732 [==============================] - 39s 23us/step - loss: 0.0608 - mean_absolute_error: 0.0608 - val_loss: 0.0598 - val_mean_absolute_error: 0.0598\n\nEpoch 00010: val_loss did not improve from 0.05967\nEpoch 11/20\n1722732/1722732 [==============================] - 39s 23us/step - loss: 0.0603 - mean_absolute_error: 0.0603 - val_loss: 0.0604 - val_mean_absolute_error: 0.0604\n\nEpoch 00011: val_loss did not improve from 0.05967\nEpoch 12/20\n1722732/1722732 [==============================] - 39s 23us/step - loss: 0.0603 - mean_absolute_error: 0.0603 - val_loss: 0.0601 - val_mean_absolute_error: 0.0601\n\nEpoch 00012: val_loss did not improve from 0.05967\nEpoch 13/20\n1722732/1722732 [==============================] - 39s 23us/step - loss: 0.0603 - mean_absolute_error: 0.0603 - val_loss: 0.0596 - val_mean_absolute_error: 0.0596\n\nEpoch 00013: val_loss improved from 0.05967 to 0.05960, saving model to Weights-013--0.05960.hdf5\nEpoch 14/20\n1722732/1722732 [==============================] - 39s 23us/step - loss: 0.0603 - mean_absolute_error: 0.0603 - val_loss: 0.0590 - val_mean_absolute_error: 0.0590\n\nEpoch 00014: val_loss improved from 0.05960 to 0.05901, saving model to Weights-014--0.05901.hdf5\nEpoch 15/20\n1722732/1722732 [==============================] - 39s 23us/step - loss: 0.0599 - mean_absolute_error: 0.0599 - val_loss: 0.0607 - val_mean_absolute_error: 0.0607\n\nEpoch 00015: val_loss did not improve from 0.05901\nEpoch 16/20\n1722732/1722732 [==============================] - 39s 23us/step - loss: 0.0598 - mean_absolute_error: 0.0598 - val_loss: 0.0594 - val_mean_absolute_error: 0.0594\n\nEpoch 00016: val_loss did not improve from 0.05901\nEpoch 17/20\n1722732/1722732 [==============================] - 40s 23us/step - loss: 0.0596 - mean_absolute_error: 0.0596 - val_loss: 0.0615 - val_mean_absolute_error: 0.0615\n\nEpoch 00017: val_loss did not improve from 0.05901\nEpoch 18/20\n1722732/1722732 [==============================] - 40s 23us/step - loss: 0.0594 - mean_absolute_error: 0.0594 - val_loss: 0.0595 - val_mean_absolute_error: 0.0595\n\nEpoch 00018: val_loss did not improve from 0.05901\nEpoch 19/20\n1722732/1722732 [==============================] - 39s 22us/step - loss: 0.0595 - mean_absolute_error: 0.0595 - val_loss: 0.0613 - val_mean_absolute_error: 0.0613\n\nEpoch 00019: val_loss did not improve from 0.05901\nEpoch 20/20\n1722732/1722732 [==============================] - 39s 23us/step - loss: 0.0594 - mean_absolute_error: 0.0594 - val_loss: 0.0603 - val_mean_absolute_error: 0.0603\n\nEpoch 00020: val_loss did not improve from 0.05901\nCPU times: user 22min 29s, sys: 2min 15s, total: 24min 44s\nWall time: 13min 11s\n",
          "name": "stdout"
        }
      ]
    },
    {
      "metadata": {
        "_uuid": "7512f4535a763a8f14f11d6318fa6c5898e9e3db"
      },
      "cell_type": "markdown",
      "source": "Downloading test set"
    },
    {
      "metadata": {
        "trusted": true,
        "_uuid": "c752a696dba514e8ebf19fcc7b03895dae01c813"
      },
      "cell_type": "code",
      "source": "x_test, _ = feature_engineering(False)\nscaler.transform(x_test)\nprint(\"x_test\", x_test.shape, x_test.max(), x_test.min())\nnp.clip(x_test, out=x_test, a_min=-1, a_max=1)\nprint(\"x_test\", x_test.shape, x_test.max(), x_test.min())",
      "execution_count": 30,
      "outputs": [
        {
          "output_type": "stream",
          "text": "Working on totalDistance ... \nWorking on totalDistance took (0.011) Sec \n\nWorking on rankPoints ... \nWorking on rankPoints took (0.022) Sec \n\nget group min feature\nget group size feature\nx_test (1934174, 170) 2.8037403272580264 -1.0633484162895928\nx_test (1934174, 170) 1.0 -1.0\n",
          "name": "stdout"
        }
      ]
    },
    {
      "metadata": {
        "_uuid": "7b16bd56eeca4cc3cfff7ecb9162d1517a2f102c"
      },
      "cell_type": "markdown",
      "source": "Predict the target"
    },
    {
      "metadata": {
        "trusted": true,
        "_uuid": "132f8cc99b3fb26f4b34d34457e33e8e376c3b97"
      },
      "cell_type": "code",
      "source": "%%time\npred = model.predict(x_test)\ndel x_test\ngc.collect()",
      "execution_count": 31,
      "outputs": [
        {
          "output_type": "stream",
          "text": "CPU times: user 46.5 s, sys: 6.98 s, total: 53.5 s\nWall time: 34.7 s\n",
          "name": "stdout"
        }
      ]
    },
    {
      "metadata": {
        "trusted": true,
        "_uuid": "3e4c2c00cf44e95ccd62c33c0dcb6e051cdfd382"
      },
      "cell_type": "code",
      "source": "pred = pred.reshape(-1)\npred = (pred + 1) / 2",
      "execution_count": 32,
      "outputs": []
    },
    {
      "metadata": {
        "trusted": true,
        "_uuid": "1cd1c0bf9cb44e41a1489fffa443d8472382c2dc"
      },
      "cell_type": "code",
      "source": "df_test = pd.read_csv('../input/test_V2.csv')",
      "execution_count": 33,
      "outputs": []
    },
    {
      "metadata": {
        "trusted": true,
        "_uuid": "d1dd0fa8ba0ffffd773b560f87a2bf5100eee816",
        "scrolled": true
      },
      "cell_type": "code",
      "source": "%%time\nfor i in range(len(df_test)):\n    winPlacePerc = pred[i]\n    maxPlace = int(df_test.iloc[i]['maxPlace'])\n    if maxPlace == 0:\n        winPlacePerc = 0.0\n    elif maxPlace == 1:\n        winPlacePerc = 1.0\n    else:\n        gap = 1.0 / (maxPlace - 1)\n        winPlacePerc = round(winPlacePerc / gap) * gap\n    \n    if winPlacePerc < 0: winPlacePerc = 0.0\n    if winPlacePerc > 1: winPlacePerc = 1.0    \n    pred[i] = winPlacePerc",
      "execution_count": 34,
      "outputs": [
        {
          "output_type": "stream",
          "text": "fix winPlacePerc\nCPU times: user 5min 11s, sys: 0 ns, total: 5min 11s\nWall time: 5min 11s\n",
          "name": "stdout"
        }
      ]
    },
    {
      "metadata": {
        "trusted": true,
        "_uuid": "9c19944db0916f1ec9c70133514bb57db30a01b8"
      },
      "cell_type": "code",
      "source": "df_test['winPlacePerc'] = pred",
      "execution_count": 35,
      "outputs": []
    },
    {
      "metadata": {
        "trusted": true,
        "_uuid": "586d274b73465fbd7a93b11e70fcd2fe24ccbc32"
      },
      "cell_type": "code",
      "source": "submission = df_test[['Id', 'winPlacePerc']]\nsubmission.to_csv('submission.csv', index=False)",
      "execution_count": null,
      "outputs": []
    }
  ],
  "metadata": {
    "kernelspec": {
      "display_name": "Python 3",
      "language": "python",
      "name": "python3"
    },
    "language_info": {
      "name": "python",
      "version": "3.6.6",
      "mimetype": "text/x-python",
      "codemirror_mode": {
        "name": "ipython",
        "version": 3
      },
      "pygments_lexer": "ipython3",
      "nbconvert_exporter": "python",
      "file_extension": ".py"
    }
  },
  "nbformat": 4,
  "nbformat_minor": 1
}