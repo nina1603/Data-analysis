{
 "cells": [
  {
   "cell_type": "markdown",
   "metadata": {},
   "source": [
    "### Реализация mean target"
   ]
  },
  {
   "cell_type": "code",
   "execution_count": 7,
   "metadata": {},
   "outputs": [
    {
     "name": "stdout",
     "output_type": "stream",
     "text": [
      "Populating the interactive namespace from numpy and matplotlib\n"
     ]
    }
   ],
   "source": [
    "from sklearn import datasets\n",
    "import numpy as np\n",
    "import pandas as pd\n",
    "%matplotlib inline\n",
    "%pylab inline"
   ]
  },
  {
   "cell_type": "code",
   "execution_count": 110,
   "metadata": {},
   "outputs": [],
   "source": [
    "def smoothedLikehood(alpha, varNum, data, targetNum):\n",
    "    # для каждого значения из столбца varNum посчитаем среднее значение target и количество раз, которое встречается\n",
    "    # конкретное значение переменной\n",
    "    merged = pd.merge(data[[varNum, targetNum]].groupby([varNum]).mean(), data[[varNum, targetNum]].groupby([varNum]).count(),\\\n",
    "                      left_index=True, right_index=True, validate = '1:1')\n",
    "    # ищем smoothed likehood по формуле\n",
    "    merged['avg'] = (merged[str(targetNum) + '_x'].values * merged[str(targetNum) + '_y'].values + \\\n",
    "                      alpha * data[targetNum].mean()) \\\n",
    "                        / (merged[str(targetNum) + '_x'].values + alpha)\n",
    "    print(merged)\n",
    "    # замысловато сохраняем среднее в Х для каждой строки\n",
    "    av = []\n",
    "    index = 0\n",
    "    for i, xrow in data.iterrows():\n",
    "        for index, row in merged.iterrows():\n",
    "            if (index == xrow[varNum]):\n",
    "                av.append(row['avg'])\n",
    "        index += 1\n",
    "    data['av'] = av\n",
    "    return(data['av'].values)"
   ]
  },
  {
   "cell_type": "code",
   "execution_count": 111,
   "metadata": {},
   "outputs": [],
   "source": [
    "iris = datasets.load_iris()\n",
    "#print(iris.data[:])"
   ]
  },
  {
   "cell_type": "code",
   "execution_count": 112,
   "metadata": {},
   "outputs": [],
   "source": [
    "df = iris.data\n",
    "X = pd.DataFrame(df)\n",
    "y = iris.target\n",
    "#print(y)\n",
    "yNum = X.shape[1]\n",
    "X[yNum] = y"
   ]
  },
  {
   "cell_type": "code",
   "execution_count": 113,
   "metadata": {},
   "outputs": [],
   "source": [
    "alpha = 10."
   ]
  },
  {
   "cell_type": "code",
   "execution_count": 119,
   "metadata": {},
   "outputs": [
    {
     "name": "stdout",
     "output_type": "stream",
     "text": [
      "          4_x  4_y       avg\n",
      "3                           \n",
      "0.1  0.000000    6  1.000000\n",
      "0.2  0.000000   28  1.000000\n",
      "0.3  0.000000    7  1.000000\n",
      "0.4  0.000000    7  1.000000\n",
      "0.5  0.000000    1  1.000000\n",
      "0.6  0.000000    1  1.000000\n",
      "1.0  1.000000    7  1.545455\n",
      "1.1  1.000000    3  1.181818\n",
      "1.2  1.000000    5  1.363636\n",
      "1.3  1.000000   13  2.090909\n",
      "1.4  1.125000    8  1.707865\n",
      "1.5  1.166667   12  2.149254\n",
      "1.6  1.250000    4  1.333333\n",
      "1.7  1.500000    2  1.130435\n",
      "1.8  1.916667   12  2.769231\n",
      "1.9  2.000000    5  1.666667\n",
      "2.0  2.000000    6  1.833333\n",
      "2.1  2.000000    6  1.833333\n",
      "2.2  2.000000    3  1.333333\n",
      "2.3  2.000000    8  2.166667\n",
      "2.4  2.000000    3  1.333333\n",
      "2.5  2.000000    3  1.333333\n"
     ]
    },
    {
     "data": {
      "text/plain": [
       "array([1.        , 1.        , 1.        , 1.        , 1.        ,\n",
       "       1.        , 1.        , 1.        , 1.        , 1.        ,\n",
       "       1.        , 1.        , 1.        , 1.        , 1.        ,\n",
       "       1.        , 1.        , 1.        , 1.        , 1.        ,\n",
       "       1.        , 1.        , 1.        , 1.        , 1.        ,\n",
       "       1.        , 1.        , 1.        , 1.        , 1.        ,\n",
       "       1.        , 1.        , 1.        , 1.        , 1.        ,\n",
       "       1.        , 1.        , 1.        , 1.        , 1.        ,\n",
       "       1.        , 1.        , 1.        , 1.        , 1.        ,\n",
       "       1.        , 1.        , 1.        , 1.        , 1.        ,\n",
       "       1.70786517, 2.14925373, 2.14925373, 2.09090909, 2.14925373,\n",
       "       2.09090909, 1.33333333, 1.54545455, 2.09090909, 1.70786517,\n",
       "       1.54545455, 2.14925373, 1.54545455, 1.70786517, 2.09090909,\n",
       "       1.70786517, 2.14925373, 1.54545455, 2.14925373, 1.18181818,\n",
       "       2.76923077, 2.09090909, 2.14925373, 1.36363636, 2.09090909,\n",
       "       1.70786517, 1.70786517, 1.13043478, 2.14925373, 1.54545455,\n",
       "       1.18181818, 1.54545455, 1.36363636, 1.33333333, 2.14925373,\n",
       "       1.33333333, 2.14925373, 2.09090909, 2.09090909, 2.09090909,\n",
       "       1.36363636, 1.70786517, 1.36363636, 1.54545455, 2.09090909,\n",
       "       1.36363636, 2.09090909, 2.09090909, 1.18181818, 2.09090909,\n",
       "       1.33333333, 1.66666667, 1.83333333, 2.76923077, 1.33333333,\n",
       "       1.83333333, 1.13043478, 2.76923077, 2.76923077, 1.33333333,\n",
       "       1.83333333, 1.66666667, 1.83333333, 1.83333333, 1.33333333,\n",
       "       2.16666667, 2.76923077, 1.33333333, 2.16666667, 2.14925373,\n",
       "       2.16666667, 1.83333333, 1.83333333, 2.76923077, 1.83333333,\n",
       "       2.76923077, 2.76923077, 2.76923077, 1.83333333, 1.33333333,\n",
       "       1.66666667, 1.83333333, 1.33333333, 2.14925373, 1.70786517,\n",
       "       2.16666667, 1.33333333, 2.76923077, 2.76923077, 1.83333333,\n",
       "       1.33333333, 2.16666667, 1.66666667, 2.16666667, 1.33333333,\n",
       "       2.16666667, 1.66666667, 1.83333333, 2.16666667, 2.76923077])"
      ]
     },
     "execution_count": 119,
     "metadata": {},
     "output_type": "execute_result"
    }
   ],
   "source": [
    "smoothedLikehood(alpha, 3, X, yNum)"
   ]
  },
  {
   "cell_type": "code",
   "execution_count": null,
   "metadata": {},
   "outputs": [],
   "source": []
  },
  {
   "cell_type": "code",
   "execution_count": null,
   "metadata": {},
   "outputs": [],
   "source": []
  },
  {
   "cell_type": "code",
   "execution_count": null,
   "metadata": {},
   "outputs": [],
   "source": []
  }
 ],
 "metadata": {
  "kernelspec": {
   "display_name": "Python 3",
   "language": "python",
   "name": "python3"
  },
  "language_info": {
   "codemirror_mode": {
    "name": "ipython",
    "version": 3
   },
   "file_extension": ".py",
   "mimetype": "text/x-python",
   "name": "python",
   "nbconvert_exporter": "python",
   "pygments_lexer": "ipython3",
   "version": "3.6.4"
  }
 },
 "nbformat": 4,
 "nbformat_minor": 2
}
